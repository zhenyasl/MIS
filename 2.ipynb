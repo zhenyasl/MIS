{
 "cells": [
  {
   "cell_type": "markdown",
   "id": "c9e44754-7d5c-4fb9-b641-9281d42e54d0",
   "metadata": {},
   "source": [
    "## Завдання 1\n",
    "### 1. Виконати набір вправ. Всі завдання виконати 2 способами:\n",
    "* а) з використанням універсальних функцій бібліотеки NumPy.\r",
    "* b) за допомогою ітеративних конструкцій (з використанням \n",
    "циклів, спискових включень тощо).\n",
    "*\n",
    "с)для обох випадків підрахувати час виконання скрипту та \n",
    "зробити висновки.сн"
   ]
  },
  {
   "cell_type": "markdown",
   "id": "4c3de3b4-7645-41c3-bc36-42f03efae7e9",
   "metadata": {},
   "source": [
    "import math\n",
    "import random\n",
    "import numpy as np"
   ]
  },
  {
   "cell_type": "code",
   "execution_count": 73,
   "id": "295b0542-2931-42e0-832d-98f4d10ca231",
   "metadata": {},
   "outputs": [],
   "source": [
    "import math\n",
    "import random\n",
    "import numpy as np"
   ]
  },
  {
   "cell_type": "markdown",
   "id": "5a933863-8591-4ce1-97a2-7b3a805aff60",
   "metadata": {},
   "source": [
    "#### №1. Вводиться число n. Вивести масив розміру n×n, в якому по діагоналі йдуть числа від 1 до n, а інші числа дорівнюють 0."
   ]
  },
  {
   "cell_type": "markdown",
   "id": "3b66312a-0d8c-4e04-88ba-ba5ec75ffe25",
   "metadata": {},
   "source": [
    "*Numpy:*"
   ]
  },
  {
   "cell_type": "code",
   "execution_count": 75,
   "id": "f58ac2e5",
   "metadata": {},
   "outputs": [
    {
     "name": "stdout",
     "output_type": "stream",
     "text": [
      "The slowest run took 5.92 times longer than the fastest. This could mean that an intermediate result is being cached.\n",
      "26.5 µs ± 16.9 µs per loop (mean ± std. dev. of 10 runs, 100 loops each)\n"
     ]
    }
   ],
   "source": [
    "%%timeit -n 100 -r 10\n",
    "\n",
    "def task_1(n):\n",
    "    matrix = np.zeros((n, n))\n",
    "    np.fill_diagonal(matrix, np.arange(1, n+1))\n",
    "    return matrix\n",
    "    \n",
    "    \n",
    "task_1(100)"
   ]
  },
  {
   "cell_type": "markdown",
   "id": "65d5db25",
   "metadata": {},
   "source": [
    "*Iterative version:*"
   ]
  },
  {
   "cell_type": "code",
   "execution_count": 76,
   "id": "8ed100eb-4a32-46a6-b55c-74d9a589c87b",
   "metadata": {},
   "outputs": [
    {
     "name": "stdout",
     "output_type": "stream",
     "text": [
      "617 µs ± 67.9 µs per loop (mean ± std. dev. of 10 runs, 100 loops each)\n"
     ]
    }
   ],
   "source": [
    "%%timeit -n 100 -r 10\n",
    "\n",
    "def task_1(n):\n",
    "    matrix = []\n",
    "    for i in range(n):\n",
    "        list = []\n",
    "        for j in range(n):\n",
    "            list.append(i + 1 if i == j else 0)\n",
    "        matrix.append(list)\n",
    "    return matrix\n",
    "    \n",
    "    \n",
    "task_1(100)"
   ]
  },
  {
   "cell_type": "markdown",
   "id": "068ebdc6-a5c7-45c1-bacb-748acffcd22d",
   "metadata": {},
   "source": [
    "#### №3. Вводяться 4 числа n, m, r, c. Вивести масив розміру n×m, в якому в кожному рядку з номером r і в кожному стовпчику номером c стоять 0, а інші елементи дорівнюють 1."
   ]
  },
  {
   "cell_type": "markdown",
   "id": "c03e2a3a",
   "metadata": {},
   "source": [
    "*Numpy version:*"
   ]
  },
  {
   "cell_type": "code",
   "execution_count": 24,
   "id": "7f7657e8",
   "metadata": {},
   "outputs": [
    {
     "name": "stdout",
     "output_type": "stream",
     "text": [
      "9.27 µs ± 201 ns per loop (mean ± std. dev. of 10 runs, 100 loops each)\n"
     ]
    }
   ],
   "source": [
    "%%timeit -n 100 -r 10\n",
    "\n",
    "def task_3(n, m, r, c):\n",
    "    matrix = np.ones((n, m), dtype=int)\n",
    "    matrix[::r, :] = 0\n",
    "    matrix[:, ::c] = 0\n",
    "    return matrix\n",
    "\n",
    "task_3(6, 7, 2, 3)"
   ]
  },
  {
   "cell_type": "markdown",
   "id": "996af81d",
   "metadata": {},
   "source": [
    "*Iterative version:*"
   ]
  },
  {
   "cell_type": "code",
   "execution_count": 25,
   "id": "70153a0e",
   "metadata": {},
   "outputs": [
    {
     "name": "stdout",
     "output_type": "stream",
     "text": [
      "6.07 µs ± 222 ns per loop (mean ± std. dev. of 10 runs, 100 loops each)\n"
     ]
    }
   ],
   "source": [
    "%%timeit -n 100 -r 10\n",
    "\n",
    "def task_3(n, m, r, c):\n",
    "    matrix = []\n",
    "    for i in range(n):\n",
    "        list_ = []\n",
    "        for j in range(m):\n",
    "            list_.append(0 if i % r == 0 or j % c == 0 else 1)\n",
    "        matrix.append(list_)\n",
    "    return matrix\n",
    "\n",
    "task_3(6, 7, 2, 3)"
   ]
  },
  {
   "cell_type": "markdown",
   "id": "a8509d0d-249e-410d-9590-7b81909ed310",
   "metadata": {},
   "source": [
    "#### №6. З клавіатури вводиться масив. Замінити всі ненульові елементи на –1. "
   ]
  },
  {
   "cell_type": "markdown",
   "id": "fa5ac743",
   "metadata": {},
   "source": [
    "*Numpy version:*"
   ]
  },
  {
   "cell_type": "code",
   "execution_count": 26,
   "id": "690878bc",
   "metadata": {},
   "outputs": [
    {
     "name": "stdout",
     "output_type": "stream",
     "text": [
      "The slowest run took 5.32 times longer than the fastest. This could mean that an intermediate result is being cached.\n",
      "10.4 µs ± 7.67 µs per loop (mean ± std. dev. of 10 runs, 100 loops each)\n"
     ]
    }
   ],
   "source": [
    "%%timeit -n 100 -r 10\n",
    "\n",
    "def task_6(input_array):\n",
    "    arr = np.array(input_array)\n",
    "    arr[arr != 0] = -1\n",
    "    return arr\n",
    "    \n",
    "task_6([-5, -10, 48, 12, 105, -5, 0, 48, 12, 105, -5, -10, 48, 12, 105, -5, -10, 48, 0, 105, -5, -10, 48, 12, 105, -5, -10, 48, 12, 105, -5, -10, 0, 12, 105, -5, -10, 48, 12, 105, 0, 0, 48, 12, 105, -5, -10, 48, 0, 105])"
   ]
  },
  {
   "cell_type": "markdown",
   "id": "681f943f",
   "metadata": {},
   "source": [
    "*Iterative version:*"
   ]
  },
  {
   "cell_type": "code",
   "execution_count": 27,
   "id": "1d6f6f3d",
   "metadata": {},
   "outputs": [
    {
     "name": "stdout",
     "output_type": "stream",
     "text": [
      "3.2 µs ± 704 ns per loop (mean ± std. dev. of 10 runs, 100 loops each)\n"
     ]
    }
   ],
   "source": [
    "%%timeit -n 100 -r 10\n",
    "\n",
    "def task_6(input_array):\n",
    "    for i in range(len(input_array)):\n",
    "        if input_array[i] != 0:\n",
    "            input_array[i] = -1\n",
    "    return input_array\n",
    "    \n",
    "task_6([-5, -10, 48, 12, 105, -5, 0, 48, 12, 105, -5, -10, 48, 12, 105, -5, -10, 48, 0, 105, -5, -10, 48, 12, 105, -5, -10, 48, 12, 105, -5, -10, 0, 12, 105, -5, -10, 48, 12, 105, 0, 0, 48, 12, 105, -5, -10, 48, 0, 105])"
   ]
  },
  {
   "cell_type": "markdown",
   "id": "4ed013a0-d0bc-4ced-94bb-9462d8af3031",
   "metadata": {},
   "source": [
    "#### №7. З клавіатури вводиться масив. Замінити всі нульові елементи на –1. "
   ]
  },
  {
   "cell_type": "markdown",
   "id": "cb67fe25",
   "metadata": {},
   "source": [
    "*Numpy version:*"
   ]
  },
  {
   "cell_type": "code",
   "execution_count": 28,
   "id": "dde9c10e",
   "metadata": {},
   "outputs": [
    {
     "name": "stdout",
     "output_type": "stream",
     "text": [
      "6.37 µs ± 1.78 µs per loop (mean ± std. dev. of 10 runs, 100 loops each)\n"
     ]
    }
   ],
   "source": [
    "%%timeit -n 100 -r 10\n",
    "\n",
    "def task_7(input_array):\n",
    "    arr = np.array(input_array)\n",
    "    arr[arr == 0] = -1\n",
    "    return arr\n",
    "    \n",
    "task_7([0, 0, 0, 0, 0, 0, 0, 0, 5, 0, 0, 0, 0, 0, 0, 0, 0, 5, 5, 0, 0, 0, 0, 0, 5, 0, 0, 0, 0, 0, 0, 0, 0, 5, 0, 0, 0, 0, 0, 0, 0, 0, 0, 0, 0, 0, 0, 0, 0, 0])"
   ]
  },
  {
   "cell_type": "markdown",
   "id": "0c9e51ef",
   "metadata": {},
   "source": [
    "*Iterative version:*"
   ]
  },
  {
   "cell_type": "code",
   "execution_count": 29,
   "id": "c0b69211",
   "metadata": {},
   "outputs": [
    {
     "name": "stdout",
     "output_type": "stream",
     "text": [
      "The slowest run took 6.15 times longer than the fastest. This could mean that an intermediate result is being cached.\n",
      "21.5 µs ± 13.3 µs per loop (mean ± std. dev. of 10 runs, 100 loops each)\n"
     ]
    }
   ],
   "source": [
    "%%timeit -n 100 -r 10\n",
    "\n",
    "def task_7(input_array):\n",
    "    for i in range(len(input_array)):\n",
    "        if input_array[i] == 0:\n",
    "            input_array[i] = -1\n",
    "    return input_array\n",
    "    \n",
    "task_7([0, 0, 0, 0, 0, 0, 0, 0, 5, 0, 0, 0, 0, 0, 0, 0, 0, 5, 5, 0, 0, 0, 0, 0, 5, 0, 0, 0, 0, 0, 0, 0, 0, 5, 0, 0, 0, 0, 0, 0, 0, 0, 0, 0, 0, 0, 0, 0, 0, 0])"
   ]
  },
  {
   "cell_type": "markdown",
   "id": "6cd245a1-42da-41d6-a343-b0b566fb95b8",
   "metadata": {},
   "source": [
    "#### №8. З клавіатури вводиться масив. Підрахувати в ньому кількість нульових та ненульових елементів ."
   ]
  },
  {
   "cell_type": "markdown",
   "id": "7a7225ea",
   "metadata": {},
   "source": [
    "*Numpy version:*"
   ]
  },
  {
   "cell_type": "code",
   "execution_count": 30,
   "id": "58dba9c2",
   "metadata": {},
   "outputs": [
    {
     "name": "stdout",
     "output_type": "stream",
     "text": [
      "5.55 µs ± 334 ns per loop (mean ± std. dev. of 10 runs, 100 loops each)\n"
     ]
    }
   ],
   "source": [
    "%%timeit -n 100 -r 10\n",
    "\n",
    "def task_8(input_array):\n",
    "    arr = np.array(input_array)\n",
    "    zeros = len(arr[arr == 0])\n",
    "    return zeros, len(arr) - zeros\n",
    "\n",
    "task_8([0, 0, 0, 0, 0, 0, 0, 0, 5, 0, 0, 0, 0, 0, 0, 0, 0, 5, 5, 0, 0, 0, 0, 0, 5, 0, 0, 0, 0, 0, 0, 0, 0, 5, 0, 0, 0, 0, 0, 0, 0, 0, 0, 0, 0, 0, 0, 0, 0, 0])"
   ]
  },
  {
   "cell_type": "markdown",
   "id": "0c3d5378",
   "metadata": {},
   "source": [
    "*Iterative version:*"
   ]
  },
  {
   "cell_type": "code",
   "execution_count": 31,
   "id": "96d57aee",
   "metadata": {},
   "outputs": [
    {
     "name": "stdout",
     "output_type": "stream",
     "text": [
      "The slowest run took 4.95 times longer than the fastest. This could mean that an intermediate result is being cached.\n",
      "15.6 µs ± 6.65 µs per loop (mean ± std. dev. of 10 runs, 100 loops each)\n"
     ]
    }
   ],
   "source": [
    "%%timeit -n 100 -r 10\n",
    "\n",
    "def task_8(input_array):\n",
    "    zeros = 0\n",
    "    for i in range(len(input_array)):\n",
    "        if input_array[i] == 0:\n",
    "            zeros += 1\n",
    "    return zeros, len(input_array) - zeros\n",
    "\n",
    "task_8([0, 0, 0, 0, 0, 0, 0, 0, 5, 0, 0, 0, 0, 0, 0, 0, 0, 5, 5, 0, 0, 0, 0, 0, 5, 0, 0, 0, 0, 0, 0, 0, 0, 5, 0, 0, 0, 0, 0, 0, 0, 0, 0, 0, 0, 0, 0, 0, 0, 0])"
   ]
  },
  {
   "cell_type": "markdown",
   "id": "a51516c3-6619-42de-be36-688d11b2d732",
   "metadata": {},
   "source": [
    "#### №11. Створити масив одиниць розміром n×n та додати до нього «рамку», що утворюється з 0."
   ]
  },
  {
   "cell_type": "markdown",
   "id": "b069c32c",
   "metadata": {},
   "source": [
    "*Numpy version:*"
   ]
  },
  {
   "cell_type": "code",
   "execution_count": 32,
   "id": "6ba3f4f8",
   "metadata": {},
   "outputs": [
    {
     "name": "stdout",
     "output_type": "stream",
     "text": [
      "3.88 µs ± 1.24 µs per loop (mean ± std. dev. of 10 runs, 100 loops each)\n"
     ]
    }
   ],
   "source": [
    "%%timeit -n 100 -r 10\n",
    "\n",
    "def task_11(n):\n",
    "    matrix = np.ones((n, n), dtype=int)\n",
    "    matrix[::(n-1), :] = 0\n",
    "    matrix[:, ::(n-1)] = 0\n",
    "    return matrix\n",
    "\n",
    "task_11(10)"
   ]
  },
  {
   "cell_type": "markdown",
   "id": "a033e35c",
   "metadata": {},
   "source": [
    "*Iterative version:*"
   ]
  },
  {
   "cell_type": "code",
   "execution_count": 33,
   "id": "806da45e",
   "metadata": {},
   "outputs": [
    {
     "name": "stdout",
     "output_type": "stream",
     "text": [
      "34.1 µs ± 5.87 µs per loop (mean ± std. dev. of 10 runs, 100 loops each)\n"
     ]
    }
   ],
   "source": [
    "%%timeit -n 100 -r 10\n",
    "\n",
    "def task_11(n):\n",
    "    matrix = []\n",
    "    for i in range(n):\n",
    "        list_ = []\n",
    "        for j in range(n):\n",
    "            list_.append(0 if i == 0 or i == n-1 or j == 0 or j == n-1 else 1)\n",
    "        matrix.append(list_)\n",
    "    return matrix\n",
    "\n",
    "task_11(10)"
   ]
  },
  {
   "cell_type": "markdown",
   "id": "2219725b-e3bd-437f-b00d-7a4b080076b7",
   "metadata": {},
   "source": [
    "#### №16. Заповнити вектор значеннями від 0 до n. Всі значення, що більші за n/4 та менші за 3n/4 замінити нулями."
   ]
  },
  {
   "cell_type": "markdown",
   "id": "0ffcdce8",
   "metadata": {},
   "source": [
    "*Numpy version:*"
   ]
  },
  {
   "cell_type": "code",
   "execution_count": 34,
   "id": "8c25001b",
   "metadata": {},
   "outputs": [
    {
     "name": "stdout",
     "output_type": "stream",
     "text": [
      "The slowest run took 5.79 times longer than the fastest. This could mean that an intermediate result is being cached.\n",
      "16.2 µs ± 7.01 µs per loop (mean ± std. dev. of 10 runs, 100 loops each)\n"
     ]
    }
   ],
   "source": [
    "%%timeit -n 100 -r 10\n",
    "\n",
    "def task_16(n):\n",
    "    array = np.arange(n+1)\n",
    "    array[(array > n/4) & (array < 3*n/4)] = 0\n",
    "    return array\n",
    "\n",
    "task_16(10)"
   ]
  },
  {
   "cell_type": "markdown",
   "id": "99bc737f",
   "metadata": {},
   "source": [
    "*Iterative version:*"
   ]
  },
  {
   "cell_type": "code",
   "execution_count": 55,
   "id": "80eaa7b6",
   "metadata": {},
   "outputs": [
    {
     "name": "stdout",
     "output_type": "stream",
     "text": [
      "5.21 µs ± 644 ns per loop (mean ± std. dev. of 10 runs, 100 loops each)\n"
     ]
    }
   ],
   "source": [
    "%%timeit -n 100 -r 10\n",
    "\n",
    "def task_16(n):\n",
    "    array = []\n",
    "    for i in range(n + 1):\n",
    "        array.append(i)\n",
    "    for i in range(n + 1):\n",
    "        array[i] = 0 if (array[i] > n/4) and (array[i] < 3*n/4) else array[i]\n",
    "    return array\n",
    "\n",
    "task_16(10)"
   ]
  },
  {
   "cell_type": "markdown",
   "id": "6bfde668-ebcd-4add-a580-1d1e736d21f4",
   "metadata": {},
   "source": [
    "#### №18. Згенерувати вектор з n випадкових чисел в діапазоні від 0 до 99. Визначити кількість унікальних чисел в послідовності."
   ]
  },
  {
   "cell_type": "markdown",
   "id": "13f0bb68",
   "metadata": {},
   "source": [
    "*Numpy version:*"
   ]
  },
  {
   "cell_type": "code",
   "execution_count": 56,
   "id": "dfabf6d5",
   "metadata": {},
   "outputs": [
    {
     "name": "stdout",
     "output_type": "stream",
     "text": [
      "The slowest run took 5.33 times longer than the fastest. This could mean that an intermediate result is being cached.\n",
      "51.2 µs ± 30.7 µs per loop (mean ± std. dev. of 10 runs, 100 loops each)\n"
     ]
    }
   ],
   "source": [
    "%%timeit -n 100 -r 10\n",
    "\n",
    "def task_18(n):\n",
    "    array = np.random.randint(0, 100, n)\n",
    "    return len(np.unique(array))\n",
    "\n",
    "task_18(100)"
   ]
  },
  {
   "cell_type": "markdown",
   "id": "faa9b86e",
   "metadata": {},
   "source": [
    "*Iterative version:*"
   ]
  },
  {
   "cell_type": "code",
   "execution_count": 57,
   "id": "1e2a9975",
   "metadata": {},
   "outputs": [
    {
     "name": "stdout",
     "output_type": "stream",
     "text": [
      "70 µs ± 13.8 µs per loop (mean ± std. dev. of 10 runs, 100 loops each)\n"
     ]
    }
   ],
   "source": [
    "%%timeit -n 100 -r 10\n",
    "\n",
    "def task_18(n):\n",
    "    array = []\n",
    "    for i in range(n):\n",
    "        array.append(random.randint(0, 100))\n",
    "    list_set = set(array)\n",
    "    return len(list_set)\n",
    "\n",
    "task_18(100)"
   ]
  },
  {
   "cell_type": "markdown",
   "id": "186ba907-6ae1-4a6e-9b92-c2b3f9deab7d",
   "metadata": {},
   "source": [
    "#### №19. Згенерувати вектор із n елементів, що рівномірно розміщені на інтервалі (0,1) – тобто обидва кінці інтервалу не включені. Значення вивести до 3 знаків після коми."
   ]
  },
  {
   "cell_type": "markdown",
   "id": "5ef87cde",
   "metadata": {},
   "source": [
    "*Numpy version:*"
   ]
  },
  {
   "cell_type": "code",
   "execution_count": 58,
   "id": "9b610198",
   "metadata": {},
   "outputs": [
    {
     "name": "stdout",
     "output_type": "stream",
     "text": [
      "31.1 µs ± 9.93 µs per loop (mean ± std. dev. of 10 runs, 100 loops each)\n"
     ]
    }
   ],
   "source": [
    "%%timeit -n 100 -r 10\n",
    "\n",
    "def task_19(n):\n",
    "    array = np.random.uniform(10**-5, 1, n)\n",
    "    return np.around(array, 3)\n",
    "\n",
    "task_19(10)"
   ]
  },
  {
   "cell_type": "markdown",
   "id": "86a00654",
   "metadata": {},
   "source": [
    "*Iterative version:*"
   ]
  },
  {
   "cell_type": "code",
   "execution_count": 59,
   "id": "618d9ffc",
   "metadata": {},
   "outputs": [
    {
     "name": "stdout",
     "output_type": "stream",
     "text": [
      "The slowest run took 5.36 times longer than the fastest. This could mean that an intermediate result is being cached.\n",
      "21.9 µs ± 11.1 µs per loop (mean ± std. dev. of 10 runs, 100 loops each)\n"
     ]
    }
   ],
   "source": [
    "%%timeit -n 100 -r 10\n",
    "\n",
    "def task_19(n):\n",
    "    array = []\n",
    "    for i in range(n):\n",
    "        array.append(round(random.uniform(10**-5, 1 - 10**-5), 3))\n",
    "    return array\n",
    "\n",
    "task_19(10)"
   ]
  },
  {
   "cell_type": "markdown",
   "id": "cffa4f68-eed5-4e7c-a095-29e8323bc687",
   "metadata": {},
   "source": [
    "## Task 2\n",
    "### Розв’язати систему алгебраїчних рівнянь за допомогою формул Крамера :\n",
    "$$\n",
    "\\begin{cases}\n",
    "x_1 + 2x_2 + 3x_3 + 4x_4 = 5 \\\\\n",
    "2x_1 + x_2 + 2x_3 + 3x_4 = 1 \\\\\n",
    "3x_1 + 2x_2 + x_3 + 2x_4 = 1 \\\\\n",
    "4x_1 + 3x_2 + 2x_3 + x_4 = -5\n",
    "\\end{cases}\n",
    "$$\n",
    "### і виконати перевірку за допомогою:\n",
    "* матричного множення\n",
    "* оберненої матриці\n",
    "* функції numpy.linalg.solve()."
   ]
  },
  {
   "cell_type": "code",
   "execution_count": 60,
   "id": "665d6893-8091-4075-b1b2-91fd39cb3987",
   "metadata": {},
   "outputs": [],
   "source": [
    "left = np.array([\n",
    "    [1, 2, 3, 4],\n",
    "    [2, 1, 2, 3],\n",
    "    [3, 2, 1, 2],\n",
    "    [4, 3, 2, 1]\n",
    "])\n",
    "\n",
    "right = np.array([5, 1, 1, -5])\n",
    "\n",
    "\n",
    "def cramers_solve(left, right):\n",
    "    length = len(right)\n",
    "    determinant = np.linalg.det(left)\n",
    "    solution = np.zeros(length)\n",
    "    \n",
    "    if np.allclose(determinant, 0):\n",
    "        print(\"Determinant is zero, there's no solution of given equation.\")\n",
    "        return solution\n",
    "    \n",
    "    for i in range(length):\n",
    "        modified_left = np.copy(left)\n",
    "        modified_left[:, i] = np.copy(right)\n",
    "        solution[i] = np.linalg.det(modified_left) / determinant\n",
    "    \n",
    "    return solution"
   ]
  },
  {
   "cell_type": "code",
   "execution_count": 66,
   "id": "173a78b1",
   "metadata": {},
   "outputs": [
    {
     "name": "stdout",
     "output_type": "stream",
     "text": [
      "Result of Cramer's method: [-2.  2. -3.  3.]\n",
      "Result of using numpy.linalg.solve(): [-2.  2. -3.  3.]\n",
      "Check results: True\n",
      "\n",
      "Check using matrix multiplication: True\n",
      "Check using inverse matrix: True\n"
     ]
    }
   ],
   "source": [
    "cramer_result = cramers_solve(left, right)\n",
    "numpy_result = np.linalg.solve(left, right)\n",
    "multiplication_check = np.dot(left, cramer_result)\n",
    "inverse_matrix_check = np.dot(np.linalg.inv(left), right)\n",
    "\n",
    "print(f\"Result of Cramer's method: {cramer_result}\") \n",
    "print(f\"Result of using numpy.linalg.solve(): {numpy_result}\")\n",
    "print(f\"Check results: {np.allclose(numpy_result, cramer_result)}\\n\")\n",
    "\n",
    "print(f\"Check using matrix multiplication: {np.allclose(right, multiplication_check)}\")\n",
    "print(f\"Check using inverse matrix: {np.allclose(inverse_matrix_check, cramer_result)}\")"
   ]
  },
  {
   "cell_type": "markdown",
   "id": "75646514-cdc9-40f2-9d75-0232f6efa1e9",
   "metadata": {},
   "source": [
    "### Завдання 3\n",
    "#### Обчислити значення матричного виразу\n",
    "$2(A - B)(A^2 + B)$,\n",
    "\n",
    "де \n",
    "$\n",
    "A =\n",
    "\\begin{pmatrix}\n",
    "5 & 1 & 7 \\\\\n",
    "-10 & -2 & 1 \\\\\n",
    "0 & 1 & 2\n",
    "\\end{pmatrix},\n",
    "B = \n",
    "\\begin{pmatrix}\n",
    "2 & 4 & 1 \\\\\n",
    "3 & 1 & 0 \\\\\n",
    "7 & 2 & 1\n",
    "\\end{pmatrix}\n",
    "$\n",
    "\n",
    "* з використанням універсальних функцій бібліотеки NumPy.\n",
    "* за допомогою ітеративних конструкцій (з використанням циклів, спискових включень тощо).\n",
    "* для обох випадків підрахувати час виконання скрипту та зробити висновок."
   ]
  },
  {
   "cell_type": "code",
   "execution_count": 67,
   "id": "8c4cba45-449e-428f-9365-901db3dcabcd",
   "metadata": {},
   "outputs": [],
   "source": [
    "A = [[5, 1, 7],\n",
    "     [-10, -2, 1],\n",
    "     [0, 1, 2]]\n",
    "\n",
    "B = [[2, 4, 1],\n",
    "     [3, 1, 0],\n",
    "     [7, 2, 1]]\n",
    "\n",
    "A_np = np.array(A)\n",
    "B_np = np.array(B)\n",
    "\n",
    "\n",
    "def multiplication(A, B):\n",
    "    a_rows, a_columns, b_rows, b_columns = len(A), len(A[0]), len(B), len(B[0])\n",
    "    result = []\n",
    "    if a_columns != b_rows:\n",
    "        print(\"Multiplication cannot be done because of different dimensions.\")\n",
    "        return result\n",
    "    \n",
    "    for i in range(a_rows):\n",
    "        new_row = []\n",
    "        for j in range(b_columns):\n",
    "            element_sum = 0\n",
    "            for k in range(a_columns):\n",
    "                element_sum += A[i][k] * B[k][j]\n",
    "            new_row.append(element_sum)\n",
    "        result.append(new_row)\n",
    "    \n",
    "    return result\n",
    "    \n",
    "def addition(A, B):\n",
    "    a_rows, a_columns, b_rows, b_columns = len(A), len(A[0]), len(B), len(B[0])\n",
    "    result = []\n",
    "    if a_rows != b_rows or a_columns != b_columns:\n",
    "        print(\"Addition cannot be done because of different dimensions.\")\n",
    "        return result\n",
    "    \n",
    "    for i in range(a_rows):\n",
    "        new_row = []\n",
    "        for j in range(a_columns):\n",
    "            new_row.append(A[i][j] + B[i][j])\n",
    "        result.append(new_row)\n",
    "    \n",
    "    return result\n",
    "\n",
    "def scalar_multiplication(a, A):\n",
    "    result = []\n",
    "    for i in range(len(A)):\n",
    "        new_row = []\n",
    "        for j in range(len(A[0])):\n",
    "            new_row.append(A[i][j] * a)\n",
    "        result.append(new_row)\n",
    "        \n",
    "    return result"
   ]
  },
  {
   "cell_type": "code",
   "execution_count": 68,
   "id": "87a34979",
   "metadata": {},
   "outputs": [
    {
     "name": "stdout",
     "output_type": "stream",
     "text": [
      "13.3 µs ± 976 ns per loop (mean ± std. dev. of 10 runs, 100 loops each)\n"
     ]
    }
   ],
   "source": [
    "%%timeit -n 100 -r 10\n",
    "numpy_result = 2 * (A_np - B_np) @ (A_np @ A_np + B_np)"
   ]
  },
  {
   "cell_type": "code",
   "execution_count": 69,
   "id": "1f0bd671",
   "metadata": {},
   "outputs": [
    {
     "name": "stdout",
     "output_type": "stream",
     "text": [
      "27 µs ± 14.8 µs per loop (mean ± std. dev. of 10 runs, 100 loops each)\n"
     ]
    }
   ],
   "source": [
    "%%timeit -n 100 -r 10\n",
    "iterative_result = scalar_multiplication(2, multiplication(addition(A, scalar_multiplication(-1, B)), addition(multiplication(A, A), B)))"
   ]
  },
  {
   "cell_type": "code",
   "execution_count": 72,
   "id": "0d057ab8",
   "metadata": {},
   "outputs": [
    {
     "data": {
      "text/plain": [
       "True"
      ]
     },
     "execution_count": 72,
     "metadata": {},
     "output_type": "execute_result"
    }
   ],
   "source": [
    "numpy_result = 2 * (A_np - B_np) @ (A_np @ A_np + B_np)\n",
    "iterative_result = scalar_multiplication(2, multiplication(addition(A, scalar_multiplication(-1, B)), addition(multiplication(A, A), B)))\n",
    "np.allclose(numpy_result, iterative_result)"
   ]
  },
  {
   "cell_type": "code",
   "execution_count": null,
   "id": "86237bed-d020-499f-aed8-92de38660605",
   "metadata": {},
   "outputs": [],
   "source": []
  }
 ],
 "metadata": {
  "kernelspec": {
   "display_name": "Python 3 (ipykernel)",
   "language": "python",
   "name": "python3"
  },
  "language_info": {
   "codemirror_mode": {
    "name": "ipython",
    "version": 3
   },
   "file_extension": ".py",
   "mimetype": "text/x-python",
   "name": "python",
   "nbconvert_exporter": "python",
   "pygments_lexer": "ipython3",
   "version": "3.11.7"
  }
 },
 "nbformat": 4,
 "nbformat_minor": 5
}
